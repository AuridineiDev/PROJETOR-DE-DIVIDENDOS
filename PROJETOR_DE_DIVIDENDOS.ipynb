{
  "nbformat": 4,
  "nbformat_minor": 0,
  "metadata": {
    "colab": {
      "provenance": [],
      "authorship_tag": "ABX9TyP4Kb7eRrNc8REcWa2UNYim",
      "include_colab_link": true
    },
    "kernelspec": {
      "name": "python3",
      "display_name": "Python 3"
    },
    "language_info": {
      "name": "python"
    }
  },
  "cells": [
    {
      "cell_type": "markdown",
      "metadata": {
        "id": "view-in-github",
        "colab_type": "text"
      },
      "source": [
        "<a href=\"https://colab.research.google.com/github/AuridineiDev/PROJETOR-DE-DIVIDENDOS/blob/main/PROJETOR_DE_DIVIDENDOS.ipynb\" target=\"_parent\"><img src=\"https://colab.research.google.com/assets/colab-badge.svg\" alt=\"Open In Colab\"/></a>"
      ]
    },
    {
      "cell_type": "code",
      "execution_count": null,
      "metadata": {
        "colab": {
          "base_uri": "https://localhost:8080/"
        },
        "id": "Ch0gC4d5oRGW",
        "outputId": "8cd974a4-3d2c-4ca1-f6f4-8b2bada3ca2a"
      },
      "outputs": [
        {
          "output_type": "stream",
          "name": "stdout",
          "text": [
            "Bem-vindo à Projeção de Dividendos!\n",
            "Digite o nome da empresa (ou 'sair' para finalizar): bbas3\n",
            "Digite o preço atual da ação da bbas3: 24,30\n",
            "Por favor, insira valores válidos.\n",
            "Digite o nome da empresa (ou 'sair' para finalizar): bbas3\n",
            "Digite o preço atual da ação da bbas3: 24.30\n",
            "Digite o dividendo anual por ação da bbas3: 2.61\n",
            "Digite o número de ações que você possui da bbas3: 100\n",
            "Digite o nome da empresa (ou 'sair' para finalizar): sair\n",
            "\n",
            "Projeção de Dividendos:\n",
            "  Empresa  Preço Atual (R$)  Dividendo Anual (R$)  Quantidade de Ações  \\\n",
            "0   bbas3              24.3                  2.61                  100   \n",
            "\n",
            "   Rendimento Anual (R$)  Taxa de Retorno (%)  \n",
            "0                  261.0            10.740741  \n",
            "\n",
            "Deseja salvar a projeção em um arquivo CSV? (s/n): s\n",
            "Arquivo 'projecao_dividendos.csv' salvo com sucesso!\n"
          ]
        }
      ],
      "source": [
        "# Criado e registrado por Auridinei Abreu Lima, programador e investidor com ajuda de IA, todos os direitos reservados a ele.\n",
        "#_______________________________________________________________________________\n",
        "\n",
        "# Projeção de Dividendos em Python\n",
        "import pandas as pd\n",
        "\n",
        "# Função para calcular os dividendos projetados\n",
        "def calcular_dividendos():\n",
        "    print(\"Bem-vindo à Projeção de Dividendos!\")\n",
        "\n",
        "    empresas = []\n",
        "\n",
        "    while True:\n",
        "        # Coleta de dados do usuário\n",
        "        nome = input(\"Digite o nome da empresa (ou 'sair' para finalizar): \")\n",
        "        if nome.lower() == 'sair':\n",
        "            break\n",
        "\n",
        "        try:\n",
        "            preco_acao = float(input(f\"Digite o preço atual da ação da {nome}: \"))\n",
        "            dividendo_anual = float(input(f\"Digite o dividendo anual por ação da {nome}: \"))\n",
        "            quantidade_acoes = int(input(f\"Digite o número de ações que você possui da {nome}: \"))\n",
        "        except ValueError:\n",
        "            print(\"Por favor, insira valores válidos.\")\n",
        "            continue\n",
        "\n",
        "        # Cálculo dos dividendos\n",
        "        rendimento_anual = dividendo_anual * quantidade_acoes\n",
        "        taxa_retorno = (dividendo_anual / preco_acao) * 100\n",
        "\n",
        "        # Salva os dados na lista\n",
        "        empresas.append({\n",
        "            \"Empresa\": nome,\n",
        "            \"Preço Atual (R$)\": preco_acao,\n",
        "            \"Dividendo Anual (R$)\": dividendo_anual,\n",
        "            \"Quantidade de Ações\": quantidade_acoes,\n",
        "            \"Rendimento Anual (R$)\": rendimento_anual,\n",
        "            \"Taxa de Retorno (%)\": taxa_retorno\n",
        "        })\n",
        "\n",
        "    # Cria um DataFrame com os dados\n",
        "    df = pd.DataFrame(empresas)\n",
        "    print(\"\\nProjeção de Dividendos:\")\n",
        "    print(df)\n",
        "\n",
        "    # Salvar em CSV (opcional)\n",
        "    salvar = input(\"\\nDeseja salvar a projeção em um arquivo CSV? (s/n): \").lower()\n",
        "    if salvar == 's':\n",
        "        df.to_csv('projecao_dividendos.csv', index=False, sep=';')\n",
        "        print(\"Arquivo 'projecao_dividendos.csv' salvo com sucesso!\")\n",
        "    else:\n",
        "        print(\"Projeção não foi salva.\")\n",
        "\n",
        "# Executar a função\n",
        "calcular_dividendos()\n"
      ]
    }
  ]
}